{
 "cells": [
  {
   "cell_type": "markdown",
   "id": "7463352a",
   "metadata": {},
   "source": [
    "# Habib's vectorbt\n",
    "pip install all necessary libraries.\n",
    "import all necessary libraries.\n",
    "talib is the most technical to install.\n",
    "use pandas_ta as an alternative or any other"
   ]
  },
  {
   "cell_type": "code",
   "execution_count": 14,
   "id": "3e840b86",
   "metadata": {},
   "outputs": [],
   "source": [
    "import pandas as pd\n",
    "import vectorbt as vbt\n",
    "import numpy as np\n",
    "import talib\n",
    "import openpyxl"
   ]
  },
  {
   "cell_type": "markdown",
   "id": "85ca2178",
   "metadata": {},
   "source": [
    "import the financial data and format it to a standard format.(set the time index, make sure the data type is time)."
   ]
  },
  {
   "cell_type": "code",
   "execution_count": 15,
   "id": "0d45fc77",
   "metadata": {},
   "outputs": [],
   "source": [
    "#get the data\n",
    "trend= pd.read_csv('EURUSD_M15.csv',sep='\\t', engine = 'python')\n",
    "#set time as index\n",
    "\n",
    "trend=trend.set_index('Time')\n",
    "# trend['trend']=np.nan\n",
    "\n",
    "# fastk_period=14 \n",
    "# fastd_period=6 \n",
    "# SLOWMA=960\n",
    "# FASTMA=8\n",
    "# atr_period=14 \n",
    "# Breakeven_no_Xatr=3 \n",
    "# tp_no_Xatr=3\n",
    "#get all indicators\n"
   ]
  },
  {
   "cell_type": "markdown",
   "id": "3107b3bd",
   "metadata": {},
   "source": [
    "assign each column to a variable.\n",
    "convert each column to numpy array. \n",
    "indicatofactory does not handle pandas well.\n",
    "indicatorfactory does not handle multiple columns well\n",
    "confirm they are of the same shape"
   ]
  },
  {
   "cell_type": "code",
   "execution_count": 3,
   "id": "2a1d1cc3",
   "metadata": {},
   "outputs": [
    {
     "data": {
      "text/plain": [
       "array([ 2073,  2169,  1412, ..., 10610,  9936,  6798], dtype=int64)"
      ]
     },
     "execution_count": 3,
     "metadata": {},
     "output_type": "execute_result"
    }
   ],
   "source": [
    "Open =trend['Open'].to_numpy()\n",
    "\n",
    "High=trend['High'].to_numpy()\n",
    "Low=trend['Low'].to_numpy()\n",
    "Close= trend['Close'].to_numpy()\n",
    "Volume=trend['Volume'].to_numpy()\n",
    "Volume"
   ]
  },
  {
   "cell_type": "markdown",
   "id": "0e2d9cd5",
   "metadata": {},
   "source": [
    "define a function. develop your strategy in it. the data parameters should come first then the input parameters, second.\n",
    "use the talib indicator and convert it to numpy. if using any other library make sure it is a numpy array. ...... make sure the return is an array. not a multiple column array but a single column array. all new arrays should be seperated by a comma"
   ]
  },
  {
   "cell_type": "code",
   "execution_count": 4,
   "id": "d7713d86",
   "metadata": {},
   "outputs": [],
   "source": [
    "def combine_indicators(Open, High, Low, Close, Volume, fastk_period=14,fastd_period=6,SLOWMA=960, FASTMA=8, \n",
    "                       atr_period=14,Breakeven_no_Xatr=3,tp_no_Xatr=3):\n",
    "\n",
    "    STOCHF = vbt.IndicatorFactory.from_talib('STOCHF')\n",
    "    STOCHD=STOCHF.run(High,Low, Close, fastk_period,fastd_period,0 ).fastd.to_numpy()\n",
    "    STOCHK=STOCHF.run(High,Low, Close, fastk_period,fastd_period,0 ).fastk.to_numpy()\n",
    "    ATR = vbt.IndicatorFactory.from_talib('ATR')\n",
    "    atr =ATR.run(High, Low, Close, atr_period).real.to_numpy()\n",
    "    MA= vbt.IndicatorFactory.from_talib('MA')\n",
    "    ma = MA.run(Close, SLOWMA,0).real.to_numpy()\n",
    "\n",
    "    FA_MA= vbt.IndicatorFactory.from_talib('MA')\n",
    "    fa_ma = FA_MA.run(Close, FASTMA,0).real.to_numpy()\n",
    "    #indicator is ready\n",
    "    \n",
    " \n",
    "    tp=tp_no_Xatr* atr\n",
    "\n",
    "    \n",
    "\n",
    "\n",
    "    sl=Breakeven_no_Xatr*atr\n",
    "    sl2= (abs(sl-Close)/Close)*100\n",
    "    \n",
    "    long_entry=np.where((STOCHD<40) & (STOCHD>STOCHK) & (Close> ma),1,0)\n",
    "    short_entry = np.where((STOCHD>70) & (STOCHD<STOCHK) & (Close <ma),2,0)\n",
    "\n",
    "\n",
    "    # buy=1\n",
    "    # sell=2\n",
    "\n",
    "    #converting to percentage\n",
    "    tp2=abs(((tp - Close)/ (Close)))*100\n",
    "    breakeven_Close=np.where((short_entry==2), Close, np.nan)\n",
    "    breakeven_Close=np.where((short_entry==2), Close, np.nan)\n",
    "   \n",
    "    if True:\n",
    "    \n",
    "        for i in range(breakeven_Close.size):\n",
    "            if np.isnan(breakeven_Close[i]):\n",
    "                breakeven_Close[i]=breakeven_Close[i-1]\n",
    "        compared_with_longentry=breakeven_Close+(Breakeven_no_Xatr*atr)\n",
    "        compared_with_shortentry=breakeven_Close-(Breakeven_no_Xatr*atr)\n",
    "    #     \n",
    "        breakeven_Close=np.nan_to_num(breakeven_Close, nan=0)\n",
    "        exits=np.where((((fa_ma>breakeven_Close) & (np.roll(fa_ma,1)<breakeven_Close))>compared_with_longentry),1,0 )\n",
    "\n",
    "\n",
    "        short_exits=np.where((((fa_ma<breakeven_Close) & (np.roll(fa_ma,1)>breakeven_Close))<compared_with_shortentry),1,0 )\n",
    "    else:\n",
    "        exits=np.where(((fa_ma>Close) & (np.roll(fa_ma,1)<Close)),1,0 )\n",
    "        short_exits=np.where(((fa_ma<Close) & (np.roll(fa_ma,1)>Close)),1,0 )\n",
    "            \n",
    "    \n",
    "\n",
    "\n",
    "    return tp, sl, sl2, long_entry, short_entry, tp2, breakeven_Close, exits, short_exits\n"
   ]
  },
  {
   "cell_type": "markdown",
   "id": "fd0612c8",
   "metadata": {},
   "source": [
    "indicatorfactory......\n",
    "the class name can be anything.\n",
    "the short name can be any shorter version.\n",
    "the input names= this should be exactly the samee with the data parameter with the function designed above\n",
    "param names = this is the indicator values of each parameter in your function. it should be exactly thesame in terms of the string name.\n",
    "output names= this should be exactly the same with the returns of your function\n",
    ".from_apply_func( this is for setting default values. first you input the function name you developed above, then the default parameters. there are other parameters that can go into this.\n"
   ]
  },
  {
   "cell_type": "code",
   "execution_count": 5,
   "id": "76d98841",
   "metadata": {},
   "outputs": [],
   "source": [
    "ind = vbt.IndicatorFactory(class_name= \"combination\",\n",
    "                           short_name=\"comb\",\n",
    "                           input_names=['Open', 'High', 'Low','Close','Volume'],\n",
    "                           param_names=['fastk_period', 'fastd_period', 'SLOWMA', 'FASTMA', 'atr_period', 'Breakeven_no_Xatr', 'tp_no_Xatr'],\n",
    "                           output_names=['tp', 'sl', 'sl2', 'long_entry', 'short_entry', 'tp2', 'breakeven_Close', 'exits', 'short_exits']\n",
    "                           ).from_apply_func(\n",
    "                                            combine_indicators,\n",
    "                                            fastk_period=14, \n",
    "                                            fastd_period=6, \n",
    "                                            SLOWMA=960,\n",
    "                                            FASTMA=8,\n",
    "                                            atr_period=14,\n",
    "                                            Breakeven_no_Xatr=3,\n",
    "                                            tp_no_Xatr=3, \n",
    "                                            keep_pd = True)"
   ]
  },
  {
   "cell_type": "markdown",
   "id": "67c6fd17",
   "metadata": {},
   "source": [
    "for walkforward analysis the data should be in pandas. recall the columns"
   ]
  },
  {
   "cell_type": "code",
   "execution_count": 6,
   "id": "b4f02cd1",
   "metadata": {},
   "outputs": [
    {
     "data": {
      "text/plain": [
       "Time\n",
       "2018-10-23 01:30:00     2073\n",
       "2018-10-23 01:45:00     2169\n",
       "2018-10-23 02:00:00     1412\n",
       "2018-10-23 02:15:00     1717\n",
       "2018-10-23 02:30:00     1864\n",
       "                       ...  \n",
       "2022-10-26 16:45:00     7303\n",
       "2022-10-26 17:00:00    11280\n",
       "2022-10-26 17:15:00    10610\n",
       "2022-10-26 17:30:00     9936\n",
       "2022-10-26 17:45:00     6798\n",
       "Name: Volume, Length: 100000, dtype: int64"
      ]
     },
     "execution_count": 6,
     "metadata": {},
     "output_type": "execute_result"
    }
   ],
   "source": [
    "Open1 =trend['Open']\n",
    "\n",
    "High1=trend['High']\n",
    "Low1=trend['Low']\n",
    "Close1= trend['Close']\n",
    "Volume1=trend['Volume']\n",
    "Volume1"
   ]
  },
  {
   "cell_type": "markdown",
   "id": "d83012e3",
   "metadata": {},
   "source": [
    "create two tupples, one for the in sample the other for the outsample. then each is divided into two the date and the prices.\n",
    "the reason for not using the whole dataframe is because indicatorfactory input prefers it column by colum.\n",
    "rolling_split is the name of the function. there is a function similar called range_split(n=, range, len) it has two outputs the rangedf and the rand indexes seperated by a comma. back to rolling_split. the n is for numple of splits, window_len= the amount of each split, set_lens=this is for the outsample you don't after fill after the comma that is for validity, if you fill this there would be need to make the output tupple 3. left_to_right should be false except you want to change the order of the output"
   ]
  },
  {
   "cell_type": "code",
   "execution_count": 7,
   "id": "66a29955",
   "metadata": {},
   "outputs": [],
   "source": [
    "(in_sample_pricesOpen1, in_sample_datesOpen1), (out_sample_pricesOpen1, out_sample_datesOpen1) = Open1.vbt.rolling_split(n=20, window_len=8000, set_lens=(2400,), left_to_right=False)\n",
    "(in_sample_pricesHigh1, in_sample_datesHigh1), (out_sample_pricesHigh1, out_sample_datesHigh1) = High1.vbt.rolling_split(n=20, window_len=8000, set_lens=(2400,), left_to_right=False)\n",
    "(in_sample_pricesLow1, in_sample_datesLow1), (out_sample_pricesLow1, out_sample_datesLow1) = Low1.vbt.rolling_split(n=20, window_len=8000, set_lens=(2400,), left_to_right=False)\n",
    "(in_sample_pricesClose1, in_sample_datesClose1), (out_sample_pricesClose1, out_sample_datesClose1) = Close1.vbt.rolling_split(n=20, window_len=8000, set_lens=(2400,), left_to_right=False)\n",
    "(in_sample_pricesVolume1, in_sample_datesVolume1), (out_sample_pricesVolume1, out_sample_datesVolume1) = Volume1.vbt.rolling_split(n=20, window_len=8000, set_lens=(2400,), left_to_right=False)\n",
    "\n",
    "# (in_sample_prices, in_sample_dates), (out_sample_prices, out_sample_dates) = trend.vbt.rolling_split(n=20, window_len=360, set_lens=(108,), left_to_right=False)"
   ]
  },
  {
   "cell_type": "markdown",
   "id": "b911a5a5",
   "metadata": {},
   "source": [
    "ind.run is to run the indicator factor take note that any parameter not inputted the default would be used'\n",
    "my_list is used to collect the performance parameters\n",
    "the for loop is to loop through each of the dataset produced by the split.\n",
    "the parameters for the portfolio.from_signals  are then collected there are other alternatives if you read the documentation.\n",
    "i like using pandas for the portfolio.from_signal price so that the output can have the dates with them. it doesn't seem to complain.\n",
    "the freq is the same that of pandas time freqencies= W,M,both is for minute(T,min),D,S.\n",
    "the porfolio has a lot functions in the class. i simply called for the total profit for the optimization it can be changed."
   ]
  },
  {
   "cell_type": "code",
   "execution_count": 8,
   "id": "9ea7ec77",
   "metadata": {},
   "outputs": [
    {
     "data": {
      "text/plain": [
       "[[(14, 14), 0.0],\n",
       " [(14, 14), 0.0],\n",
       " [(14, 14), 0.0],\n",
       " [(14, 14), 0.0],\n",
       " [(14, 14), 0.0],\n",
       " [(14, 14), 0.0],\n",
       " [(14, 14), 0.0],\n",
       " [(14, 14), 0.0],\n",
       " [(14, 14), 0.0],\n",
       " [(14, 14), 0.0],\n",
       " [(14, 14), 0.0],\n",
       " [(14, 14), 0.0],\n",
       " [(14, 14), 0.0],\n",
       " [(14, 14), 0.0],\n",
       " [(14, 14), 0.0],\n",
       " [(14, 14), 0.0],\n",
       " [(14, 14), 0.0],\n",
       " [(14, 14), 0.0],\n",
       " [(14, 14), 0.0],\n",
       " [(14, 14), 0.0]]"
      ]
     },
     "execution_count": 8,
     "metadata": {},
     "output_type": "execute_result"
    }
   ],
   "source": [
    "my_list= []\n",
    "for i in range(in_sample_pricesClose1.shape[1]):\n",
    "    \n",
    "    res=ind.run(in_sample_pricesOpen1[i].to_numpy(), in_sample_pricesHigh1[i].to_numpy(), in_sample_pricesLow1[i].to_numpy(), in_sample_pricesClose1[i].to_numpy(),in_sample_pricesVolume1[i].to_numpy(),[14,38,60],[14,38,60])\n",
    "    entries=res.long_entry==1\n",
    "    exits=res.exits\n",
    "    short_entries = res.short_entry==1\n",
    "    short_exits=res.short_exits\n",
    "    exits= res.short_exits\n",
    "    sl_stop=res.sl2\n",
    "    tp_stop=res.tp2\n",
    "    pf = vbt.Portfolio.from_signals(close=trend[\"Close\"].loc[in_sample_datesClose1[i]], entries= entries, exits = exits, short_entries=short_entries,short_exits= short_exits,sl_stop=sl_stop, tp_stop=tp_stop, freq='15T')\n",
    "    performance = pf.total_profit()\n",
    "#     heatmap = performance.vbt.heatmap(\n",
    "#     x_labels='comb_fastd_period',\n",
    "#     y_labels='comb_fastk_period',)\n",
    "#     my_list.append([performance.idxmax(), performance.max()])\n",
    "#     print(portfolio.total_profit())\n",
    "my_list"
   ]
  },
  {
   "cell_type": "code",
   "execution_count": 9,
   "id": "4f45f60d",
   "metadata": {},
   "outputs": [],
   "source": [
    "# my_list[0][0][0]\n",
    "# my_list[i][0][1]"
   ]
  },
  {
   "cell_type": "markdown",
   "id": "d17dce66",
   "metadata": {},
   "source": [
    "sample as above but for the outsample. remember only the parameters with the most profit is tested on the outsample"
   ]
  },
  {
   "cell_type": "code",
   "execution_count": 10,
   "id": "88d0ff5d",
   "metadata": {},
   "outputs": [
    {
     "data": {
      "text/plain": [
       "[0.0,\n",
       " 0.0,\n",
       " 0.0,\n",
       " 0.0,\n",
       " 0.0,\n",
       " 0.0,\n",
       " 0.0,\n",
       " 0.0,\n",
       " 0.0,\n",
       " 0.0,\n",
       " 0.0,\n",
       " 0.0,\n",
       " 0.0,\n",
       " 0.0,\n",
       " 0.0,\n",
       " 0.0,\n",
       " 0.0,\n",
       " 0.0,\n",
       " 0.0,\n",
       " 0.0]"
      ]
     },
     "execution_count": 10,
     "metadata": {},
     "output_type": "execute_result"
    }
   ],
   "source": [
    "my_list_out_sample= []\n",
    "my_list\n",
    "for i in range(out_sample_pricesClose1.shape[1]):\n",
    "    \n",
    "    res=ind.run(out_sample_pricesOpen1[i].to_numpy(), out_sample_pricesHigh1[i].to_numpy(), out_sample_pricesLow1[i].to_numpy(), out_sample_pricesClose1[i].to_numpy(),out_sample_pricesVolume1[i].to_numpy(),my_list[i][0][0],my_list[i][0][1])\n",
    "    entries=res.long_entry==1\n",
    "    exits=res.exits\n",
    "    short_entries = res.short_entry==1\n",
    "    short_exits=res.short_exits\n",
    "    exits= res.short_exits\n",
    "    sl_stop=res.sl2\n",
    "    tp_stop=res.tp2\n",
    "    pf= vbt.Portfolio.from_signals(close=trend[\"Close\"].loc[out_sample_datesClose1[i]], entries= entries, exits = exits, short_entries=short_entries,short_exits= short_exits,sl_stop=sl_stop, tp_stop=tp_stop, freq='15T')\n",
    "    performance = pf.total_profit()\n",
    "    my_list_out_sample.append(performance)\n",
    "#     print(portfolio.total_profit())\n",
    "my_list_out_sample"
   ]
  },
  {
   "cell_type": "markdown",
   "id": "ce870280",
   "metadata": {},
   "source": [
    "after you have got the parameters you need. use the codes below to have the data to judge live trades."
   ]
  },
  {
   "cell_type": "code",
   "execution_count": null,
   "id": "bcce4ddb",
   "metadata": {},
   "outputs": [],
   "source": [
    "\n",
    "\n",
    "RP=pd.DataFrame(columns =['id','col','size','entry_idx','entry_price','entry_fees','exit_idx',\n",
    "                          'exit_price','exit_fees','pnl','return','direction','status','parent_id',\n",
    "                          'annualized_profit','no_of_trades_per_year',\n",
    "                          'per_winning_trade','largest_win','average_win','duration_of_average_win','largest_loss',\n",
    "                          'average_loss','duration_of_average_loss','average_wining_run','largest_number_of_wining_run',\n",
    "                          'largest_number_of_losing_run','average_losing_run','maximum_drawdown'\n",
    "                         'duration_of_maximum_drawdown'])\n",
    "my_list_out_sample= []\n",
    "my_list\n",
    "for i in range(out_sample_pricesClose1.shape[1]):\n",
    "    \n",
    "    res=ind.run(out_sample_pricesOpen1[i].to_numpy(), out_sample_pricesHigh1[i].to_numpy(), out_sample_pricesLow1[i].to_numpy(), out_sample_pricesClose1[i].to_numpy(),out_sample_pricesVolume1[i].to_numpy(),my_list[i][0][0],my_list[i][0][1])\n",
    "    entries=res.long_entry==1\n",
    "    exits=res.exits\n",
    "    short_entries = res.short_entry==1\n",
    "    short_exits=res.short_exits\n",
    "    exits= res.short_exits\n",
    "    sl_stop=res.sl2\n",
    "    tp_stop=res.tp2\n",
    "    pf= vbt.Portfolio.from_signals(close=trend[\"Close\"].loc[out_sample_datesClose1[i]], entries= entries, exits = exits, short_entries=short_entries,short_exits= short_exits,sl_stop=sl_stop, tp_stop=tp_stop, freq='15T')\n",
    "    performance = pf.total_profit()\n",
    "    my_list_out_sample.append(performance)\n",
    "\n",
    "    #1 annualized profit\n",
    "    annualized_profit = pf.annualized_return()\n",
    "    #2 number of trades per year\n",
    "    trades = pf.trades.records_arr\n",
    "    trades_df=pd.DataFrame(trades, columns=['id','col','size','entry_idx','entry_price','entry_fees','exit_idx','exit_price','exit_fees','pnl','return','direction','status','parent_id'])\n",
    "    no_of_trades_per_year=pf.trades.open.count()\n",
    "    #buy=0, sell=1\n",
    "    #3 percentage of winning trades\n",
    "    per_winning_trade=pf.trades.win_rate()\n",
    "    #4 largest win\n",
    "    largest_win=pf.trades.returns.max()\n",
    "    # 6 average win\n",
    "    average_win=pf.trades.winning.returns.mean()\n",
    "    #7 length of average win\n",
    "    duration_of_average_win=pf.trades.winning.duration.mean()\n",
    "    #8 largest loss\n",
    "    largest_loss=pf.trades.returns.min()\n",
    "    #10 average loss\n",
    "    average_loss=pf.trades.losing.returns.mean()\n",
    "    #11 length of time in average loss\n",
    "    duration_of_average_loss=pf.trades.losing.duration.mean()\n",
    "    #12 average wining run\n",
    "    trades_df['pnl_int']=np.nan\n",
    "    trades_df.loc[trades_df['pnl']<0,'pnl_int']=-1\n",
    "    trades_df.loc[trades_df['pnl']>0,'pnl_int']=1\n",
    "    trades_df['pnl_int1']=trades_df['pnl_int'][trades_df['pnl_int']>0]\n",
    "    trades_df['pnl_int-1']=trades_df['pnl_int'][trades_df['pnl_int']<0]\n",
    "    consecutive = trades_df['pnl_int1']!=trades_df['pnl_int1'].shift(1)\n",
    "    counts=consecutive.cumsum()\n",
    "    trades_df['counts']= counts\n",
    "    group_counts= trades_df['counts'].groupby(counts).size()\n",
    "    group_counts[group_counts==1] = 0\n",
    "    group_counts.max()\n",
    "    #average wining run\n",
    "    average_wining_run=group_counts[group_counts>1].mean()\n",
    "    #largest winning run\n",
    "    largest_number_of_wining_run=group_counts.max()\n",
    "    #13 average losing run\n",
    "    consecutives = trades_df['pnl_int-1']!=trades_df['pnl_int-1'].shift(1)\n",
    "    countlos=consecutives.cumsum()\n",
    "    trades_df['countlos']= countlos\n",
    "    group_countlos= trades_df['countlos'].groupby(countlos).size()\n",
    "    group_countlos[group_countlos==1] = 0\n",
    "    #largest losing run\n",
    "    largest_number_of_losing_run=group_countlos.max()\n",
    "    #average  losing run\n",
    "    average_losing_run=group_countlos[group_countlos>1].mean()\n",
    "    #maximum drawdown\n",
    "    maximum_drawdown=pf.drawdowns.max_drawdown()\n",
    "    #duration of maximum drawdown\n",
    "    duration_of_maximum_drawdown=pf.drawdowns.max_duration()\n",
    "\n",
    "    RP1=RP['id','col','size','entry_idx','entry_price','entry_fees','exit_idx','exit_price','exit_fees','pnl','return','direction','status','parent_id'].append(trade_df)\n",
    "    RP=RP.append([{'annualized_profit':annualized_profit}])\n",
    "    RP=RP.append([{'no_of_trades_per_year':no_of_trades_per_year}])\n",
    "    RP=RP.append([{'per_winning_trade':per_winning_trade}])\n",
    "    RP=RP.append([{'largest_win':largest_win}])\n",
    "    RP=RP.append([{'average_win':average_win}])\n",
    "    RP=RP.append([{'duration_of_average_win':duration_of_average_win}])\n",
    "    RP=RP.append([{'largest_loss':largest_loss}])\n",
    "    RP=RP.append([{'average_loss':average_loss}])\n",
    "    RP=RP.append([{'duration_of_average_loss':duration_of_average_loss}])\n",
    "    RP=RP.append([{'average_wining_run':average_wining_run}])\n",
    "    RP=RP.append([{'largest_number_of_wining_run':largest_number_of_wining_run}])\n",
    "    RP=RP.append([{'largest_number_of_losing_run':largest_number_of_losing_run}])\n",
    "    RP=RP.append([{'average_losing_run':average_losing_run}])\n",
    "    RP=RP.append([{'maximum_drawdown':maximum_drawdown}])\n",
    "    RP=RP.append([{'duration_of_maximum_drawdown':duration_of_maximum_drawdown}])\n",
    "    RP=RP.append(RP1)\n",
    "#     print(portfolio.total_profit())\n",
    "my_list_out_sample"
   ]
  },
  {
   "cell_type": "code",
   "execution_count": 11,
   "id": "a3d5864e",
   "metadata": {},
   "outputs": [],
   "source": [
    "# #   store split data in tuples\n",
    "# (in_sample_prices, in_sample_dates), (out_sample_prices, out_sample_dates) = price.vbt.rolling_split(n=20, window_len=360, set_lens=(108,), left_to_right=False)\n",
    "\n",
    "# print(in_sample_dates)\n",
    "# print(out_sample_dates)\n",
    "# print(out_sample_prices[19])\n",
    "\n",
    "# run combinations on in sample dates, sort by sharpe ratio\n",
    "# windows = numpy.arange(10, 50)\n",
    "# fast_ma, slow_ma = vbt.MA.run_combs(in_sample_prices, windows)\n",
    "# entries = fast_ma.ma_crossed_above(slow_ma)\n",
    "# exits = fast_ma.ma_crossed_below(slow_ma)\n",
    "# portfolio = vbt.Portfolio.from_signals(in_sample_prices, entries, exits, freq='1d', direction='both')\n",
    "# performance = portfolio.sharpe_ratio()\n",
    "# print(performance[performance.groupby('split_idx').idxmax()].index)"
   ]
  },
  {
   "cell_type": "code",
   "execution_count": null,
   "id": "c181e279",
   "metadata": {},
   "outputs": [],
   "source": []
  },
  {
   "cell_type": "code",
   "execution_count": null,
   "id": "2c780789",
   "metadata": {},
   "outputs": [],
   "source": []
  },
  {
   "cell_type": "code",
   "execution_count": null,
   "id": "97965f09",
   "metadata": {},
   "outputs": [],
   "source": []
  },
  {
   "cell_type": "code",
   "execution_count": null,
   "id": "83906eca",
   "metadata": {},
   "outputs": [],
   "source": []
  },
  {
   "cell_type": "code",
   "execution_count": null,
   "id": "2c54c562",
   "metadata": {},
   "outputs": [],
   "source": []
  },
  {
   "cell_type": "code",
   "execution_count": null,
   "id": "2ebec4f0",
   "metadata": {},
   "outputs": [],
   "source": []
  },
  {
   "cell_type": "code",
   "execution_count": null,
   "id": "233e3d9a",
   "metadata": {},
   "outputs": [],
   "source": []
  },
  {
   "cell_type": "code",
   "execution_count": null,
   "id": "e639a437",
   "metadata": {},
   "outputs": [],
   "source": []
  },
  {
   "cell_type": "code",
   "execution_count": null,
   "id": "413f92a6",
   "metadata": {},
   "outputs": [],
   "source": []
  },
  {
   "cell_type": "code",
   "execution_count": null,
   "id": "e9810ea9",
   "metadata": {},
   "outputs": [],
   "source": []
  },
  {
   "cell_type": "code",
   "execution_count": null,
   "id": "ba045086",
   "metadata": {},
   "outputs": [],
   "source": []
  },
  {
   "cell_type": "code",
   "execution_count": null,
   "id": "11333bf8",
   "metadata": {},
   "outputs": [],
   "source": []
  },
  {
   "cell_type": "code",
   "execution_count": null,
   "id": "6b391547",
   "metadata": {},
   "outputs": [],
   "source": []
  },
  {
   "cell_type": "markdown",
   "id": "6ebfed23",
   "metadata": {},
   "source": []
  },
  {
   "cell_type": "code",
   "execution_count": 12,
   "id": "3e34206d",
   "metadata": {},
   "outputs": [
    {
     "data": {
      "text/plain": [
       "0.0"
      ]
     },
     "execution_count": 12,
     "metadata": {},
     "output_type": "execute_result"
    }
   ],
   "source": [
    "#1 annualized profit\n",
    "pf.annualized_return()"
   ]
  },
  {
   "cell_type": "code",
   "execution_count": 13,
   "id": "5b447882",
   "metadata": {},
   "outputs": [
    {
     "data": {
      "text/html": [
       "<div>\n",
       "<style scoped>\n",
       "    .dataframe tbody tr th:only-of-type {\n",
       "        vertical-align: middle;\n",
       "    }\n",
       "\n",
       "    .dataframe tbody tr th {\n",
       "        vertical-align: top;\n",
       "    }\n",
       "\n",
       "    .dataframe thead th {\n",
       "        text-align: right;\n",
       "    }\n",
       "</style>\n",
       "<table border=\"1\" class=\"dataframe\">\n",
       "  <thead>\n",
       "    <tr style=\"text-align: right;\">\n",
       "      <th></th>\n",
       "      <th>id</th>\n",
       "      <th>col</th>\n",
       "      <th>size</th>\n",
       "      <th>entry_idx</th>\n",
       "      <th>entry_price</th>\n",
       "      <th>entry_fees</th>\n",
       "      <th>exit_idx</th>\n",
       "      <th>exit_price</th>\n",
       "      <th>exit_fees</th>\n",
       "      <th>pnl</th>\n",
       "      <th>return</th>\n",
       "      <th>direction</th>\n",
       "      <th>status</th>\n",
       "      <th>parent_id</th>\n",
       "    </tr>\n",
       "  </thead>\n",
       "  <tbody>\n",
       "  </tbody>\n",
       "</table>\n",
       "</div>"
      ],
      "text/plain": [
       "Empty DataFrame\n",
       "Columns: [id, col, size, entry_idx, entry_price, entry_fees, exit_idx, exit_price, exit_fees, pnl, return, direction, status, parent_id]\n",
       "Index: []"
      ]
     },
     "execution_count": 13,
     "metadata": {},
     "output_type": "execute_result"
    }
   ],
   "source": [
    "\n",
    "#buy=0, sell=1\n",
    "\n",
    "trades = pf.trades.records_arr\n",
    "trades_df=pd.DataFrame(trades, columns=['id','col','size','entry_idx','entry_price','entry_fees','exit_idx','exit_price','exit_fees','pnl','return','direction','status','parent_id'])\n",
    "trades_df\n"
   ]
  },
  {
   "cell_type": "code",
   "execution_count": null,
   "id": "f4c04357",
   "metadata": {},
   "outputs": [],
   "source": [
    "\n",
    "#2 number of trades per year\n",
    "pf.trades.open.count()"
   ]
  },
  {
   "cell_type": "code",
   "execution_count": null,
   "id": "159b7c29",
   "metadata": {},
   "outputs": [],
   "source": [
    "\n",
    "#3 percentage of winning trades\n",
    "pf.trades.win_rate()"
   ]
  },
  {
   "cell_type": "code",
   "execution_count": null,
   "id": "b54d3355",
   "metadata": {},
   "outputs": [],
   "source": [
    "#4 largest win\n",
    "pf.trades.returns.max()"
   ]
  },
  {
   "cell_type": "code",
   "execution_count": null,
   "id": "4c77bced",
   "metadata": {},
   "outputs": [],
   "source": [
    "# length of largest win\n",
    "#entry_idx-exit_idx\n",
    "trades_df[trades_df['return']==trades_df['return'].max()]['exit_idx']-trades_df[trades_df['return']==trades_df['return'].max()]['entry_idx']"
   ]
  },
  {
   "cell_type": "code",
   "execution_count": null,
   "id": "c8d92363",
   "metadata": {},
   "outputs": [],
   "source": [
    "# 6 average win\n",
    "pf.trades.winning.returns.mean()"
   ]
  },
  {
   "cell_type": "code",
   "execution_count": null,
   "id": "7ac9f5ba",
   "metadata": {},
   "outputs": [],
   "source": [
    "#7 length of average win\n",
    "pf.trades.winning.duration.mean()"
   ]
  },
  {
   "cell_type": "code",
   "execution_count": null,
   "id": "ee3c1954",
   "metadata": {},
   "outputs": [],
   "source": [
    "#8 largest loss\n",
    "pf.trades.returns.min()"
   ]
  },
  {
   "cell_type": "code",
   "execution_count": null,
   "id": "c6d20549",
   "metadata": {},
   "outputs": [],
   "source": [
    "#9 length of time in largest loss\n",
    "trades_df[trades_df['return']==trades_df['return'].min()]['exit_idx']-trades_df[trades_df['return']==trades_df['return'].min()]['entry_idx']\n"
   ]
  },
  {
   "cell_type": "code",
   "execution_count": null,
   "id": "b6e16900",
   "metadata": {},
   "outputs": [],
   "source": [
    "\n",
    "#10 average loss\n",
    "pf.trades.losing.returns.mean()"
   ]
  },
  {
   "cell_type": "code",
   "execution_count": null,
   "id": "590ad7f6",
   "metadata": {},
   "outputs": [],
   "source": [
    "\n",
    "#10 average loss\n",
    "pf.trades.losing.returns.mean()"
   ]
  },
  {
   "cell_type": "code",
   "execution_count": null,
   "id": "4da0e61e",
   "metadata": {},
   "outputs": [],
   "source": [
    "#11 length of time in average loss\n",
    "pf.trades.losing.duration.mean()"
   ]
  },
  {
   "cell_type": "code",
   "execution_count": null,
   "id": "0f3897e7",
   "metadata": {},
   "outputs": [],
   "source": [
    "#12 average wining run\n",
    "trades_df['pnl_int']=np.nan\n",
    "trades_df.loc[trades_df['pnl']<0,'pnl_int']=-1\n",
    "trades_df.loc[trades_df['pnl']>0,'pnl_int']=1\n",
    "trades_df['pnl_int1']=trades_df['pnl_int'][trades_df['pnl_int']>0]\n",
    "trades_df['pnl_int-1']=trades_df['pnl_int'][trades_df['pnl_int']<0]\n",
    "consecutive = trades_df['pnl_int1']!=trades_df['pnl_int1'].shift(1)\n",
    "counts=consecutive.cumsum()\n",
    "trades_df['counts']= counts\n",
    "group_counts= trades_df['counts'].groupby(counts).size()\n",
    "group_counts[group_counts==1] = 0\n",
    "group_counts.max()"
   ]
  },
  {
   "cell_type": "code",
   "execution_count": null,
   "id": "0ac6ca31",
   "metadata": {},
   "outputs": [],
   "source": [
    "#average wining run\n",
    "group_counts[group_counts>1].mean()"
   ]
  },
  {
   "cell_type": "code",
   "execution_count": null,
   "id": "a5c3840e",
   "metadata": {},
   "outputs": [],
   "source": [
    "#largest winning run\n",
    "group_counts.max()"
   ]
  },
  {
   "cell_type": "code",
   "execution_count": null,
   "id": "e988bd25",
   "metadata": {},
   "outputs": [],
   "source": [
    "#13 average losing run\n",
    "consecutives = trades_df['pnl_int-1']!=trades_df['pnl_int-1'].shift(1)\n",
    "countlos=consecutives.cumsum()\n",
    "trades_df['countlos']= countlos\n",
    "group_countlos= trades_df['countlos'].groupby(countlos).size()\n",
    "group_countlos[group_countlos==1] = 0"
   ]
  },
  {
   "cell_type": "code",
   "execution_count": null,
   "id": "26cc0814",
   "metadata": {},
   "outputs": [],
   "source": [
    "\n",
    "#largest losing run\n",
    "group_countlos.max()"
   ]
  },
  {
   "cell_type": "code",
   "execution_count": null,
   "id": "f26f4874",
   "metadata": {},
   "outputs": [],
   "source": [
    "#average  losing run\n",
    "group_countlos[group_countlos>1].mean()"
   ]
  },
  {
   "cell_type": "code",
   "execution_count": null,
   "id": "2d325136",
   "metadata": {},
   "outputs": [],
   "source": [
    "#maximum drawdown\n",
    "pf.drawdowns.max_drawdown()"
   ]
  },
  {
   "cell_type": "code",
   "execution_count": null,
   "id": "0c66ed15",
   "metadata": {},
   "outputs": [],
   "source": [
    "#duration of maximum drawdown\n",
    "pf.drawdowns.max_duration()"
   ]
  },
  {
   "cell_type": "code",
   "execution_count": null,
   "id": "e226a99a",
   "metadata": {},
   "outputs": [],
   "source": []
  }
 ],
 "metadata": {
  "kernelspec": {
   "display_name": "Python 3 (ipykernel)",
   "language": "python",
   "name": "python3"
  },
  "language_info": {
   "codemirror_mode": {
    "name": "ipython",
    "version": 3
   },
   "file_extension": ".py",
   "mimetype": "text/x-python",
   "name": "python",
   "nbconvert_exporter": "python",
   "pygments_lexer": "ipython3",
   "version": "3.9.12"
  }
 },
 "nbformat": 4,
 "nbformat_minor": 5
}
